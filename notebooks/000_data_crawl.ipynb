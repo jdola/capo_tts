{
 "cells": [
  {
   "cell_type": "code",
   "execution_count": 1,
   "metadata": {},
   "outputs": [
    {
     "name": "stderr",
     "output_type": "stream",
     "text": [
      "/home/giangtran/miniconda3/envs/melo_env/lib/python3.10/site-packages/tqdm/auto.py:21: TqdmWarning: IProgress not found. Please update jupyter and ipywidgets. See https://ipywidgets.readthedocs.io/en/stable/user_install.html\n",
      "  from .autonotebook import tqdm as notebook_tqdm\n",
      "Downloading data: 100%|██████████| 486M/486M [00:05<00:00, 96.7MB/s] \n",
      "Downloading data: 100%|██████████| 485M/485M [00:05<00:00, 94.6MB/s] \n",
      "Downloading data: 100%|██████████| 522M/522M [00:05<00:00, 89.0MB/s] \n",
      "Downloading data: 100%|██████████| 506M/506M [01:35<00:00, 5.32MB/s] \n",
      "Downloading data: 100%|██████████| 495M/495M [02:57<00:00, 2.79MB/s] \n",
      "Downloading data: 100%|██████████| 537M/537M [00:29<00:00, 18.4MB/s] \n",
      "Downloading data: 100%|██████████| 538M/538M [00:25<00:00, 21.2MB/s] \n",
      "Downloading data: 100%|██████████| 514M/514M [00:36<00:00, 14.0MB/s] \n",
      "Downloading data: 100%|██████████| 507M/507M [00:05<00:00, 88.2MB/s] \n",
      "Downloading data: 100%|██████████| 534M/534M [02:59<00:00, 2.97MB/s] \n",
      "Downloading data: 100%|██████████| 528M/528M [00:05<00:00, 91.9MB/s] \n",
      "Downloading data: 100%|██████████| 540M/540M [00:05<00:00, 94.6MB/s] \n",
      "Downloading data: 100%|██████████| 551M/551M [00:05<00:00, 93.1MB/s] \n",
      "Downloading data: 100%|██████████| 555M/555M [00:05<00:00, 96.1MB/s] \n",
      "Downloading data: 100%|██████████| 537M/537M [00:23<00:00, 22.8MB/s] \n",
      "Generating train split: 100%|██████████| 14935/14935 [00:36<00:00, 410.92 examples/s]\n"
     ]
    }
   ],
   "source": [
    "# pip install -q \"datasets[audio]\"\n",
    "from datasets import load_dataset\n",
    "\n",
    "dataset_name = \"doof-ferb/infore1_25hours\"\n",
    "dataset = load_dataset(dataset_name, streaming=False)\n",
    "dataset.save_to_disk(f\"/mnt/e/working/vietnamese_tts/data/{dataset_name}\")"
   ]
  },
  {
   "cell_type": "code",
   "execution_count": 1,
   "metadata": {},
   "outputs": [
    {
     "name": "stderr",
     "output_type": "stream",
     "text": [
      "/home/giangtran/miniconda3/envs/melo_env/lib/python3.10/site-packages/tqdm/auto.py:21: TqdmWarning: IProgress not found. Please update jupyter and ipywidgets. See https://ipywidgets.readthedocs.io/en/stable/user_install.html\n",
      "  from .autonotebook import tqdm as notebook_tqdm\n"
     ]
    }
   ],
   "source": [
    "from datasets import load_dataset\n",
    "from torch.utils.data import DataLoader\n",
    "\n",
    "dataset_name = \"doof-ferb/infore1_25hours\"\n",
    "\n",
    "dataset = load_dataset(f\"/mnt/e/working/vietnamese_tts/data/{dataset_name}\")"
   ]
  },
  {
   "cell_type": "code",
   "execution_count": 2,
   "metadata": {},
   "outputs": [],
   "source": [
    "from pydub import AudioSegment\n",
    "from io import BytesIO\n",
    "import numpy as np\n",
    "\n",
    "meta_data = []\n",
    "chunks_dir = \"/mnt/e/working/vietnamese_tts/data/chunks/\"\n",
    "for data in dataset['train']:\n",
    "    # audio_array = (data['audio']['array'] * (2**15 - 1)).astype(np.int16)\n",
    "    # audio = AudioSegment.from_raw(BytesIO(audio_array), sample_width=2, frame_rate=44100, channels=1) # dataset['train'][0]\n",
    "    chunk_path = chunks_dir + data['audio']['path']\n",
    "    # audio.export(chunk_path, format=\"wav\")\n",
    "    meta_data.append([chunk_path, \"infor1_25h\", \"VI-SOUTH\", data['transcription']])"
   ]
  },
  {
   "cell_type": "code",
   "execution_count": 3,
   "metadata": {},
   "outputs": [],
   "source": [
    "import csv\n",
    "\n",
    "with open('/mnt/e/working/vietnamese_tts/data/train_config/first_2spks/metadata.csv', 'r') as f:\n",
    "    reader = csv.reader(f, delimiter=\"|\")\n",
    "    old_metadatas= list(reader)\n",
    "valid_metadata = list(filter(lambda x: x[1]==\"1989\", old_metadatas))\n",
    "total_metadata = valid_metadata + meta_data"
   ]
  },
  {
   "cell_type": "code",
   "execution_count": 4,
   "metadata": {},
   "outputs": [],
   "source": [
    "with open('/mnt/e/working/vietnamese_tts/data/train_config/2spks_20240829/metadata.csv', 'w') as f:\n",
    "    writer = csv.writer(f, delimiter=\"|\")\n",
    "    writer.writerows(total_metadata)"
   ]
  },
  {
   "cell_type": "code",
   "execution_count": 7,
   "metadata": {},
   "outputs": [],
   "source": [
    "# tmp convert wav to 22050\n",
    "import csv\n",
    "with open('/mnt/e/working/vietnamese_tts/data/train_config/2spks_20240829/metadata.csv', 'r') as f:\n",
    "    reader = csv.reader(f, delimiter=\"|\")\n",
    "    old_metadatas= list(reader)"
   ]
  },
  {
   "cell_type": "code",
   "execution_count": 4,
   "metadata": {},
   "outputs": [],
   "source": [
    "from pydub import AudioSegment\n",
    "for file_path, _, _, _ in old_metadatas:\n",
    "    file_path_22050 = file_path.replace(\"/chunks/\", \"/chunks_22050/\")\n",
    "    AudioSegment.from_file(file_path).set_frame_rate(22050).export(file_path_22050, format=\"wav\")"
   ]
  },
  {
   "cell_type": "code",
   "execution_count": 5,
   "metadata": {},
   "outputs": [],
   "source": [
    "# tmp convert wav to 22050\n",
    "import csv\n",
    "with open('/mnt/e/working/vietnamese_tts/data/train_config/2spks_20240830/metadata.csv', 'r') as f:\n",
    "    reader = csv.reader(f, delimiter=\"|\")\n",
    "    old_metadatas= list(reader)"
   ]
  },
  {
   "cell_type": "code",
   "execution_count": null,
   "metadata": {},
   "outputs": [],
   "source": []
  }
 ],
 "metadata": {
  "kernelspec": {
   "display_name": "melo_env",
   "language": "python",
   "name": "python3"
  },
  "language_info": {
   "codemirror_mode": {
    "name": "ipython",
    "version": 3
   },
   "file_extension": ".py",
   "mimetype": "text/x-python",
   "name": "python",
   "nbconvert_exporter": "python",
   "pygments_lexer": "ipython3",
   "version": "3.10.14"
  }
 },
 "nbformat": 4,
 "nbformat_minor": 2
}
